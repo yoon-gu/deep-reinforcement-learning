{
 "cells": [
  {
   "cell_type": "markdown",
   "metadata": {},
   "source": [
    "# Navigation\n",
    "\n",
    "---\n",
    "\n",
    "In this notebook, you will learn how to use the Unity ML-Agents environment for the first project of the [Deep Reinforcement Learning Nanodegree](https://www.udacity.com/course/deep-reinforcement-learning-nanodegree--nd893).\n",
    "\n",
    "### 1. Start the Environment\n",
    "\n",
    "We begin by importing some necessary packages.  If the code cell below returns an error, please revisit the project instructions to double-check that you have installed [Unity ML-Agents](https://github.com/Unity-Technologies/ml-agents/blob/master/docs/Installation.md) and [NumPy](http://www.numpy.org/)."
   ]
  },
  {
   "cell_type": "code",
   "execution_count": 1,
   "metadata": {},
   "outputs": [],
   "source": [
    "from unityagents import UnityEnvironment\n",
    "import numpy as np\n",
    "from collections import deque\n",
    "from dqn_agent import Agent\n",
    "import torch"
   ]
  },
  {
   "cell_type": "markdown",
   "metadata": {},
   "source": [
    "Next, we will start the environment!  **_Before running the code cell below_**, change the `file_name` parameter to match the location of the Unity environment that you downloaded.\n",
    "\n",
    "- **Mac**: `\"path/to/Banana.app\"`\n",
    "- **Windows** (x86): `\"path/to/Banana_Windows_x86/Banana.exe\"`\n",
    "- **Windows** (x86_64): `\"path/to/Banana_Windows_x86_64/Banana.exe\"`\n",
    "- **Linux** (x86): `\"path/to/Banana_Linux/Banana.x86\"`\n",
    "- **Linux** (x86_64): `\"path/to/Banana_Linux/Banana.x86_64\"`\n",
    "- **Linux** (x86, headless): `\"path/to/Banana_Linux_NoVis/Banana.x86\"`\n",
    "- **Linux** (x86_64, headless): `\"path/to/Banana_Linux_NoVis/Banana.x86_64\"`\n",
    "\n",
    "For instance, if you are using a Mac, then you downloaded `Banana.app`.  If this file is in the same folder as the notebook, then the line below should appear as follows:\n",
    "```\n",
    "env = UnityEnvironment(file_name=\"Banana.app\")\n",
    "```"
   ]
  },
  {
   "cell_type": "code",
   "execution_count": 2,
   "metadata": {},
   "outputs": [
    {
     "name": "stderr",
     "output_type": "stream",
     "text": [
      "INFO:unityagents:\n",
      "'Academy' started successfully!\n",
      "Unity Academy name: Academy\n",
      "        Number of Brains: 1\n",
      "        Number of External Brains : 1\n",
      "        Lesson number : 0\n",
      "        Reset Parameters :\n",
      "\t\t\n",
      "Unity brain name: BananaBrain\n",
      "        Number of Visual Observations (per agent): 0\n",
      "        Vector Observation space type: continuous\n",
      "        Vector Observation space size (per agent): 37\n",
      "        Number of stacked Vector Observation: 1\n",
      "        Vector Action space type: discrete\n",
      "        Vector Action space size (per agent): 4\n",
      "        Vector Action descriptions: , , , \n"
     ]
    }
   ],
   "source": [
    "env = UnityEnvironment(file_name=\"/Users/jacob/Downloads/Banana.app\")"
   ]
  },
  {
   "cell_type": "markdown",
   "metadata": {},
   "source": [
    "Environments contain **_brains_** which are responsible for deciding the actions of their associated agents. Here we check for the first brain available, and set it as the default brain we will be controlling from Python."
   ]
  },
  {
   "cell_type": "code",
   "execution_count": 3,
   "metadata": {},
   "outputs": [],
   "source": [
    "# get the default brain\n",
    "brain_name = env.brain_names[0]\n",
    "brain = env.brains[brain_name]"
   ]
  },
  {
   "cell_type": "markdown",
   "metadata": {},
   "source": [
    "### 2. Examine the State and Action Spaces\n",
    "\n",
    "The simulation contains a single agent that navigates a large environment.  At each time step, it has four actions at its disposal:\n",
    "- `0` - walk forward \n",
    "- `1` - walk backward\n",
    "- `2` - turn left\n",
    "- `3` - turn right\n",
    "\n",
    "The state space has `37` dimensions and contains the agent's velocity, along with ray-based perception of objects around agent's forward direction.  A reward of `+1` is provided for collecting a yellow banana, and a reward of `-1` is provided for collecting a blue banana. \n",
    "\n",
    "Run the code cell below to print some information about the environment."
   ]
  },
  {
   "cell_type": "code",
   "execution_count": 4,
   "metadata": {},
   "outputs": [
    {
     "name": "stdout",
     "output_type": "stream",
     "text": [
      "Number of agents: 1\n",
      "Number of actions: 4\n",
      "States look like: [1.         0.         0.         0.         0.84408134 0.\n",
      " 0.         1.         0.         0.0748472  0.         1.\n",
      " 0.         0.         0.25755    1.         0.         0.\n",
      " 0.         0.74177343 0.         1.         0.         0.\n",
      " 0.25854847 0.         0.         1.         0.         0.09355672\n",
      " 0.         1.         0.         0.         0.31969345 0.\n",
      " 0.        ]\n",
      "States have length: 37\n"
     ]
    }
   ],
   "source": [
    "# reset the environment\n",
    "env_info = env.reset(train_mode=True)[brain_name]\n",
    "\n",
    "# number of agents in the environment\n",
    "print('Number of agents:', len(env_info.agents))\n",
    "\n",
    "# number of actions\n",
    "action_size = brain.vector_action_space_size\n",
    "print('Number of actions:', action_size)\n",
    "\n",
    "# examine the state space \n",
    "state = env_info.vector_observations[0]\n",
    "print('States look like:', state)\n",
    "state_size = len(state)\n",
    "print('States have length:', state_size)"
   ]
  },
  {
   "cell_type": "markdown",
   "metadata": {},
   "source": [
    "### 3. Take Random Actions in the Environment\n",
    "\n",
    "In the next code cell, you will learn how to use the Python API to control the agent and receive feedback from the environment.\n",
    "\n",
    "Once this cell is executed, you will watch the agent's performance, if it selects an action (uniformly) at random with each time step.  A window should pop up that allows you to observe the agent, as it moves through the environment.  \n",
    "\n",
    "Of course, as part of the project, you'll have to change the code so that the agent is able to use its experience to gradually choose better actions when interacting with the environment!"
   ]
  },
  {
   "cell_type": "markdown",
   "metadata": {},
   "source": [
    "### 4. It's Your Turn!\n",
    "\n",
    "Now it's your turn to train your own agent to solve the environment!  When training the environment, set `train_mode=True`, so that the line for resetting the environment looks like the following:\n",
    "```python\n",
    "env_info = env.reset(train_mode=True)[brain_name]\n",
    "```"
   ]
  },
  {
   "cell_type": "code",
   "execution_count": 5,
   "metadata": {},
   "outputs": [],
   "source": [
    "agent = Agent(state_size=state_size, action_size=action_size, seed=0)"
   ]
  },
  {
   "cell_type": "code",
   "execution_count": 6,
   "metadata": {},
   "outputs": [
    {
     "name": "stdout",
     "output_type": "stream",
     "text": [
      "Episode 100\tAverage Score: 2.73\n",
      "Episode 200\tAverage Score: 8.32\n",
      "Episode 300\tAverage Score: 12.69\n",
      "Episode 400\tAverage Score: 14.88\n",
      "Episode 500\tAverage Score: 15.65\n",
      "Episode 600\tAverage Score: 15.62\n"
     ]
    }
   ],
   "source": [
    "def dqn(n_episodes=600, max_t=1000, eps_start=1.0, eps_end=0.01, eps_decay=0.980):\n",
    "    \"\"\"Deep Q-Learning.\n",
    "    \n",
    "    Params\n",
    "    ======\n",
    "        n_episodes (int): maximum number of training episodes\n",
    "        max_t (int): maximum number of timesteps per episode\n",
    "        eps_start (float): starting value of epsilon, for epsilon-greedy action selection\n",
    "        eps_end (float): minimum value of epsilon\n",
    "        eps_decay (float): multiplicative factor (per episode) for decreasing epsilon\n",
    "    \"\"\"\n",
    "    scores = []                        # list containing scores from each episode\n",
    "    scores_window = deque(maxlen=100)  # last 100 scores\n",
    "    eps = eps_start                    # initialize epsilon\n",
    "    for i_episode in range(1, n_episodes+1):\n",
    "        env_info = env.reset(train_mode=True)[brain_name]\n",
    "        state = env_info.vector_observations[0]\n",
    "        score = 0\n",
    "        for t in range(max_t):\n",
    "            action = agent.act(state, eps)\n",
    "            env_info = env.step(action)[brain_name]\n",
    "            \n",
    "            next_state = env_info.vector_observations[0]\n",
    "            reward = env_info.rewards[0]\n",
    "            done = env_info.local_done[0]\n",
    "            \n",
    "            agent.step(state, action, reward, next_state, done)\n",
    "            state = next_state\n",
    "            score += reward\n",
    "            if done:\n",
    "                break \n",
    "        scores_window.append(score)       # save most recent score\n",
    "        scores.append(score)              # save most recent score\n",
    "        eps = max(eps_end, eps_decay*eps) # decrease epsilon\n",
    "        print('\\rEpisode {}\\tAverage Score: {:.2f}'.format(i_episode, np.mean(scores_window)), end=\"\")\n",
    "        if i_episode % 100 == 0:\n",
    "            print('\\rEpisode {}\\tAverage Score: {:.2f}'.format(i_episode, np.mean(scores_window)))\n",
    "        if np.mean(scores_window)>=20.0:\n",
    "            print('\\nEnvironment solved in {:d} episodes!\\tAverage Score: {:.2f}'.format(i_episode-100, np.mean(scores_window)))\n",
    "            torch.save(agent.qnetwork_local.state_dict(), 'checkpoint.pth')\n",
    "            break\n",
    "    return scores\n",
    "\n",
    "scores = dqn()"
   ]
  },
  {
   "cell_type": "code",
   "execution_count": 7,
   "metadata": {},
   "outputs": [
    {
     "data": {
      "image/png": "[encoded data removed]",
      "text/plain": [
       "<Figure size 432x288 with 1 Axes>"
      ]
     },
     "metadata": {
      "needs_background": "light"
     },
     "output_type": "display_data"
    }
   ],
   "source": [
    "import matplotlib.pyplot as plt\n",
    "%matplotlib inline\n",
    "# plot the scores\n",
    "fig = plt.figure()\n",
    "ax = fig.add_subplot(111)\n",
    "plt.plot(np.arange(len(scores)), scores)\n",
    "plt.ylabel('Score')\n",
    "plt.xlabel('Episode #')\n",
    "plt.show()"
   ]
  },
  {
   "cell_type": "code",
   "execution_count": 8,
   "metadata": {
    "scrolled": false
   },
   "outputs": [
    {
     "name": "stdout",
     "output_type": "stream",
     "text": [
      "1 4.0\n",
      "2 6.333333333333333\n",
      "3 4.75\n",
      "4 4.4\n",
      "5 3.8333333333333335\n",
      "6 4.142857142857143\n",
      "7 4.375\n",
      "8 6.0\n",
      "9 7.2\n",
      "10 6.7272727272727275\n",
      "11 6.666666666666667\n",
      "12 6.384615384615385\n",
      "13 6.642857142857143\n",
      "14 6.466666666666667\n",
      "15 6.125\n",
      "16 6.176470588235294\n",
      "17 6.0\n",
      "18 6.0\n",
      "19 5.75\n",
      "21 5.5\n",
      "22 5.521739130434782\n",
      "23 5.416666666666667\n",
      "24 5.32\n",
      "25 5.8076923076923075\n",
      "26 5.62962962962963\n",
      "27 6.035714285714286\n",
      "28 6.448275862068965\n",
      "29 6.466666666666667\n",
      "30 6.387096774193548\n",
      "31 6.46875\n",
      "32 6.333333333333333\n",
      "33 6.411764705882353\n",
      "34 6.714285714285714\n",
      "35 6.916666666666667\n",
      "36 7.135135135135135\n",
      "37 7.157894736842105\n",
      "38 6.9743589743589745\n",
      "39 7.125\n",
      "41 7.095238095238095\n",
      "42 7.023255813953488\n",
      "43 6.863636363636363\n",
      "44 7.066666666666666\n",
      "45 7.195652173913044\n",
      "46 7.404255319148936\n",
      "47 7.5625\n",
      "48 7.755102040816326\n",
      "49 7.84\n",
      "50 7.784313725490196\n",
      "51 7.923076923076923\n",
      "52 7.90566037735849\n",
      "53 7.87037037037037\n",
      "54 7.818181818181818\n",
      "55 7.892857142857143\n",
      "56 7.9298245614035086\n",
      "57 8.0\n",
      "58 8.169491525423728\n",
      "59 8.066666666666666\n",
      "61 7.967741935483871\n",
      "62 7.920634920634921\n",
      "63 7.859375\n",
      "64 7.7384615384615385\n",
      "65 7.757575757575758\n",
      "66 7.91044776119403\n",
      "67 7.970588235294118\n",
      "68 7.884057971014493\n",
      "69 7.828571428571428\n",
      "70 7.71830985915493\n",
      "71 7.763888888888889\n",
      "72 7.890410958904109\n",
      "73 7.824324324324325\n",
      "74 7.8\n",
      "75 7.9605263157894735\n",
      "76 7.896103896103896\n",
      "77 7.846153846153846\n",
      "78 7.8734177215189876\n",
      "79 7.9125\n",
      "81 7.878048780487805\n",
      "82 7.9397590361445785\n",
      "83 7.916666666666667\n",
      "84 7.882352941176471\n",
      "85 7.965116279069767\n",
      "86 8.03448275862069\n",
      "87 8.0\n",
      "88 7.943820224719101\n",
      "89 7.877777777777778\n",
      "90 8.0\n",
      "91 8.08695652173913\n",
      "92 8.193548387096774\n",
      "93 8.148936170212766\n",
      "94 8.25263157894737\n",
      "95 8.197916666666666\n",
      "96 8.123711340206185\n",
      "97 8.071428571428571\n",
      "98 8.131313131313131\n",
      "99 8.05\n",
      "101 8.088235294117647\n",
      "102 8.087378640776699\n",
      "103 8.10576923076923\n",
      "104 8.095238095238095\n",
      "105 8.066037735849056\n",
      "106 8.037383177570094\n",
      "107 8.101851851851851\n",
      "108 8.100917431192661\n",
      "109 8.145454545454545\n",
      "110 8.18918918918919\n",
      "111 8.169642857142858\n",
      "112 8.11504424778761\n",
      "113 8.219298245614034\n",
      "114 8.208695652173914\n",
      "115 8.258620689655173\n",
      "116 8.282051282051283\n",
      "117 8.220338983050848\n",
      "118 8.285714285714286\n",
      "119 8.258333333333333\n",
      "121 8.262295081967213\n",
      "122 8.333333333333334\n",
      "123 8.298387096774194\n",
      "124 8.368\n",
      "125 8.452380952380953\n",
      "126 8.48031496062992\n",
      "127 8.4765625\n",
      "128 8.426356589147288\n",
      "129 8.484615384615385\n",
      "130 8.549618320610687\n",
      "131 8.590909090909092\n",
      "132 8.639097744360901\n",
      "133 8.716417910447761\n",
      "134 8.725925925925926\n",
      "135 8.764705882352942\n",
      "136 8.817518248175183\n",
      "137 8.797101449275363\n",
      "138 8.79136690647482\n",
      "139 8.757142857142858\n",
      "141 8.852112676056338\n",
      "142 8.923076923076923\n",
      "143 8.895833333333334\n",
      "144 8.86896551724138\n",
      "145 8.938356164383562\n",
      "146 8.993197278911564\n",
      "147 8.966216216216216\n",
      "148 9.033557046979865\n",
      "149 8.986666666666666\n",
      "150 8.973509933774835\n",
      "151 9.006578947368421\n",
      "152 9.032679738562091\n",
      "153 9.025974025974026\n",
      "154 9.058064516129033\n",
      "155 9.025641025641026\n",
      "156 9.101910828025478\n",
      "157 9.069620253164556\n",
      "158 9.031446540880504\n",
      "159 9.0125\n",
      "161 9.030864197530864\n",
      "162 9.067484662576687\n",
      "163 9.097560975609756\n",
      "164 9.151515151515152\n",
      "165 9.108433734939759\n",
      "166 9.10179640718563\n",
      "167 9.047619047619047\n",
      "168 9.005917159763314\n",
      "169 9.041176470588235\n",
      "170 8.982456140350877\n",
      "171 8.930232558139535\n",
      "172 8.878612716763005\n",
      "173 8.931034482758621\n",
      "174 8.914285714285715\n",
      "175 8.960227272727273\n",
      "176 9.01129943502825\n",
      "177 9.01685393258427\n",
      "178 8.966480446927374\n",
      "179 8.983333333333333\n",
      "181 9.04945054945055\n",
      "182 9.01639344262295\n",
      "183 9.027173913043478\n",
      "184 9.021621621621621\n",
      "185 8.983870967741936\n",
      "186 9.02139037433155\n",
      "187 9.00531914893617\n",
      "188 9.058201058201059\n",
      "189 9.057894736842105\n",
      "190 9.020942408376964\n",
      "191 9.020833333333334\n",
      "192 8.994818652849741\n",
      "193 8.974226804123711\n",
      "194 8.933333333333334\n",
      "195 8.918367346938776\n",
      "196 8.893401015228426\n",
      "197 8.873737373737374\n",
      "198 8.879396984924623\n",
      "199 8.845\n",
      "8.845\n"
     ]
    }
   ],
   "source": [
    "agent.qnetwork_local.load_state_dict(torch.load('checkpoint.pth'))\n",
    "scores_total = 0.\n",
    "for i in range(200):\n",
    "    env_info = env.reset(train_mode=True)[brain_name]\n",
    "    state = env_info.vector_observations[0]\n",
    "    score = 0.\n",
    "    while(True):\n",
    "        action = agent.act(state)\n",
    "        env_info = env.step(action)[brain_name]\n",
    "\n",
    "        next_state = env_info.vector_observations[0]\n",
    "        reward = env_info.rewards[0]\n",
    "        done = env_info.local_done[0]\n",
    "\n",
    "        state = next_state\n",
    "        score += reward\n",
    "        if done:\n",
    "            scores_total += score\n",
    "            break\n",
    "    \n",
    "    if i % 20:\n",
    "        print(i, scores_total / (i+1))\n",
    "print(scores_total / (i+1))"
   ]
  },
  {
   "cell_type": "code",
   "execution_count": null,
   "metadata": {},
   "outputs": [],
   "source": []
  },
  {
   "cell_type": "code",
   "execution_count": 9,
   "metadata": {},
   "outputs": [],
   "source": [
    "env.close()"
   ]
  },
  {
   "cell_type": "code",
   "execution_count": null,
   "metadata": {},
   "outputs": [],
   "source": []
  }
 ],
 "metadata": {
  "kernelspec": {
   "display_name": "drlnd",
   "language": "python",
   "name": "drlnd"
  },
  "language_info": {
   "codemirror_mode": {
    "name": "ipython",
    "version": 3
   },
   "file_extension": ".py",
   "mimetype": "text/x-python",
   "name": "python",
   "nbconvert_exporter": "python",
   "pygments_lexer": "ipython3",
   "version": "3.6.7"
  }
 },
 "nbformat": 4,
 "nbformat_minor": 2
}
