{
 "cells": [
  {
   "cell_type": "markdown",
   "metadata": {},
   "source": [
    "# Continuous Control\n",
    "\n",
    "---\n",
    "\n",
    "In this notebook, you will learn how to use the Unity ML-Agents environment for the second project of the [Deep Reinforcement Learning Nanodegree](https://www.udacity.com/course/deep-reinforcement-learning-nanodegree--nd893) program.\n",
    "\n",
    "### 1. Start the Environment\n",
    "\n",
    "We begin by importing the necessary packages.  If the code cell below returns an error, please revisit the project instructions to double-check that you have installed [Unity ML-Agents](https://github.com/Unity-Technologies/ml-agents/blob/master/docs/Installation.md) and [NumPy](http://www.numpy.org/)."
   ]
  },
  {
   "cell_type": "code",
   "execution_count": 1,
   "metadata": {},
   "outputs": [],
   "source": [
    "from unityagents import UnityEnvironment\n",
    "import numpy as np"
   ]
  },
  {
   "cell_type": "markdown",
   "metadata": {},
   "source": [
    "Next, we will start the environment!  **_Before running the code cell below_**, change the `file_name` parameter to match the location of the Unity environment that you downloaded.\n",
    "\n",
    "- **Mac**: `\"path/to/Reacher.app\"`\n",
    "- **Windows** (x86): `\"path/to/Reacher_Windows_x86/Reacher.exe\"`\n",
    "- **Windows** (x86_64): `\"path/to/Reacher_Windows_x86_64/Reacher.exe\"`\n",
    "- **Linux** (x86): `\"path/to/Reacher_Linux/Reacher.x86\"`\n",
    "- **Linux** (x86_64): `\"path/to/Reacher_Linux/Reacher.x86_64\"`\n",
    "- **Linux** (x86, headless): `\"path/to/Reacher_Linux_NoVis/Reacher.x86\"`\n",
    "- **Linux** (x86_64, headless): `\"path/to/Reacher_Linux_NoVis/Reacher.x86_64\"`\n",
    "\n",
    "For instance, if you are using a Mac, then you downloaded `Reacher.app`.  If this file is in the same folder as the notebook, then the line below should appear as follows:\n",
    "```\n",
    "env = UnityEnvironment(file_name=\"Reacher.app\")\n",
    "```"
   ]
  },
  {
   "cell_type": "code",
   "execution_count": 2,
   "metadata": {},
   "outputs": [
    {
     "name": "stderr",
     "output_type": "stream",
     "text": [
      "INFO:unityagents:\n",
      "'Academy' started successfully!\n",
      "Unity Academy name: Academy\n",
      "        Number of Brains: 1\n",
      "        Number of External Brains : 1\n",
      "        Lesson number : 0\n",
      "        Reset Parameters :\n",
      "\t\tgoal_speed -> 1.0\n",
      "\t\tgoal_size -> 5.0\n",
      "Unity brain name: ReacherBrain\n",
      "        Number of Visual Observations (per agent): 0\n",
      "        Vector Observation space type: continuous\n",
      "        Vector Observation space size (per agent): 33\n",
      "        Number of stacked Vector Observation: 1\n",
      "        Vector Action space type: continuous\n",
      "        Vector Action space size (per agent): 4\n",
      "        Vector Action descriptions: , , , \n"
     ]
    }
   ],
   "source": [
    "env = UnityEnvironment(file_name='./Reacher-2.app')"
   ]
  },
  {
   "cell_type": "markdown",
   "metadata": {},
   "source": [
    "Environments contain **_brains_** which are responsible for deciding the actions of their associated agents. Here we check for the first brain available, and set it as the default brain we will be controlling from Python."
   ]
  },
  {
   "cell_type": "code",
   "execution_count": 3,
   "metadata": {},
   "outputs": [],
   "source": [
    "# get the default brain\n",
    "brain_name = env.brain_names[0]\n",
    "brain = env.brains[brain_name]"
   ]
  },
  {
   "cell_type": "markdown",
   "metadata": {},
   "source": [
    "### 2. Examine the State and Action Spaces\n",
    "\n",
    "In this environment, a double-jointed arm can move to target locations. A reward of `+0.1` is provided for each step that the agent's hand is in the goal location. Thus, the goal of your agent is to maintain its position at the target location for as many time steps as possible.\n",
    "\n",
    "The observation space consists of `33` variables corresponding to position, rotation, velocity, and angular velocities of the arm.  Each action is a vector with four numbers, corresponding to torque applicable to two joints.  Every entry in the action vector must be a number between `-1` and `1`.\n",
    "\n",
    "Run the code cell below to print some information about the environment."
   ]
  },
  {
   "cell_type": "code",
   "execution_count": 4,
   "metadata": {},
   "outputs": [
    {
     "name": "stdout",
     "output_type": "stream",
     "text": [
      "Number of agents: 20\n",
      "Size of each action: 4\n",
      "There are 20 agents. Each observes a state with length: 33\n",
      "The state for the first agent looks like: [ 0.00000000e+00 -4.00000000e+00  0.00000000e+00  1.00000000e+00\n",
      " -0.00000000e+00 -0.00000000e+00 -4.37113883e-08  0.00000000e+00\n",
      "  0.00000000e+00  0.00000000e+00  0.00000000e+00  0.00000000e+00\n",
      "  0.00000000e+00  0.00000000e+00 -1.00000000e+01  0.00000000e+00\n",
      "  1.00000000e+00 -0.00000000e+00 -0.00000000e+00 -4.37113883e-08\n",
      "  0.00000000e+00  0.00000000e+00  0.00000000e+00  0.00000000e+00\n",
      "  0.00000000e+00  0.00000000e+00  5.75471878e+00 -1.00000000e+00\n",
      "  5.55726624e+00  0.00000000e+00  1.00000000e+00  0.00000000e+00\n",
      " -1.68164849e-01]\n"
     ]
    }
   ],
   "source": [
    "# reset the environment\n",
    "env_info = env.reset(train_mode=True)[brain_name]\n",
    "\n",
    "# number of agents\n",
    "num_agents = len(env_info.agents)\n",
    "print('Number of agents:', num_agents)\n",
    "\n",
    "# size of each action\n",
    "action_size = brain.vector_action_space_size\n",
    "print('Size of each action:', action_size)\n",
    "\n",
    "# examine the state space \n",
    "states = env_info.vector_observations\n",
    "state_size = states.shape[1]\n",
    "print('There are {} agents. Each observes a state with length: {}'.format(states.shape[0], state_size))\n",
    "print('The state for the first agent looks like:', states[0])"
   ]
  },
  {
   "cell_type": "markdown",
   "metadata": {},
   "source": [
    "### 3. Take Random Actions in the Environment\n",
    "\n",
    "In the next code cell, you will learn how to use the Python API to control the agent and receive feedback from the environment.\n",
    "\n",
    "Once this cell is executed, you will watch the agent's performance, if it selects an action at random with each time step.  A window should pop up that allows you to observe the agent, as it moves through the environment.  \n",
    "\n",
    "Of course, as part of the project, you'll have to change the code so that the agent is able to use its experience to gradually choose better actions when interacting with the environment!"
   ]
  },
  {
   "cell_type": "code",
   "execution_count": 5,
   "metadata": {},
   "outputs": [],
   "source": [
    "# env_info = env.reset(train_mode=False)[brain_name]     # reset the environment    \n",
    "# states = env_info.vector_observations                  # get the current state (for each agent)\n",
    "# scores = np.zeros(num_agents)                          # initialize the score (for each agent)\n",
    "# while True:\n",
    "#     actions = np.random.randn(num_agents, action_size) # select an action (for each agent)\n",
    "#     actions = np.clip(actions, -1, 1)                  # all actions between -1 and 1\n",
    "#     env_info = env.step(actions)[brain_name]           # send all actions to tne environment\n",
    "#     next_states = env_info.vector_observations         # get next state (for each agent)\n",
    "#     rewards = env_info.rewards                         # get reward (for each agent)\n",
    "#     dones = env_info.local_done                        # see if episode finished\n",
    "#     scores += env_info.rewards                         # update the score (for each agent)\n",
    "#     states = next_states                               # roll over states to next time step\n",
    "#     if np.any(dones):                                  # exit loop if episode finished\n",
    "#         break\n",
    "# print('Total score (averaged over agents) this episode: {}'.format(np.mean(scores)))"
   ]
  },
  {
   "cell_type": "markdown",
   "metadata": {},
   "source": [
    "When finished, you can close the environment."
   ]
  },
  {
   "cell_type": "markdown",
   "metadata": {},
   "source": [
    "### 4. It's Your Turn!\n",
    "\n",
    "Now it's your turn to train your own agent to solve the environment!  When training the environment, set `train_mode=True`, so that the line for resetting the environment looks like the following:\n",
    "```python\n",
    "env_info = env.reset(train_mode=True)[brain_name]\n",
    "```"
   ]
  },
  {
   "cell_type": "code",
   "execution_count": 6,
   "metadata": {},
   "outputs": [],
   "source": [
    "env_info = env.reset(train_mode=True)[brain_name]"
   ]
  },
  {
   "cell_type": "code",
   "execution_count": 7,
   "metadata": {},
   "outputs": [],
   "source": [
    "from ddpg_agent import Agent\n",
    "agent = Agent(state_size, action_size, 0)"
   ]
  },
  {
   "cell_type": "code",
   "execution_count": 8,
   "metadata": {
    "scrolled": false
   },
   "outputs": [
    {
     "name": "stdout",
     "output_type": "stream",
     "text": [
      "Episode 1\tAverage Score: 0.69\tmax_step:1001\n",
      "Episode 2\tAverage Score: 0.80\tmax_step:1001\n",
      "Episode 3\tAverage Score: 1.16\tmax_step:1001\n",
      "Episode 4\tAverage Score: 1.75\tmax_step:1001\n",
      "Episode 5\tAverage Score: 2.58\tmax_step:1001\n",
      "Episode 6\tAverage Score: 3.09\tmax_step:1001\n",
      "Episode 7\tAverage Score: 3.73\tmax_step:1001\n",
      "Episode 8\tAverage Score: 4.39\tmax_step:1001\n",
      "Episode 9\tAverage Score: 4.94\tmax_step:1001\n",
      "Episode 10\tAverage Score: 5.64\tmax_step:1001\n",
      "Episode 11\tAverage Score: 6.45\tmax_step:1001\n",
      "Episode 12\tAverage Score: 7.47\tmax_step:1001\n",
      "Episode 13\tAverage Score: 8.63\tmax_step:1001\n",
      "Episode 14\tAverage Score: 9.75\tmax_step:1001\n",
      "Episode 15\tAverage Score: 11.16\tmax_step:1001\n",
      "Episode 16\tAverage Score: 12.20\tmax_step:1001\n",
      "Episode 17\tAverage Score: 13.46\tmax_step:1001\n",
      "Episode 18\tAverage Score: 14.56\tmax_step:1001\n",
      "Episode 19\tAverage Score: 15.43\tmax_step:1001\n",
      "Episode 20\tAverage Score: 16.18\tmax_step:1001\n",
      "Episode 21\tAverage Score: 16.94\tmax_step:1001\n",
      "Episode 22\tAverage Score: 17.63\tmax_step:1001\n",
      "Episode 23\tAverage Score: 18.35\tmax_step:1001\n",
      "Episode 24\tAverage Score: 19.11\tmax_step:1001\n",
      "Episode 25\tAverage Score: 19.81\tmax_step:1001\n",
      "Episode 26\tAverage Score: 20.40\tmax_step:1001\n",
      "Episode 27\tAverage Score: 20.92\tmax_step:1001\n",
      "Episode 28\tAverage Score: 21.47\tmax_step:1001\n",
      "Episode 29\tAverage Score: 22.02\tmax_step:1001\n",
      "Episode 30\tAverage Score: 22.45\tmax_step:1001\n",
      "Episode 31\tAverage Score: 22.85\tmax_step:1001\n",
      "Episode 32\tAverage Score: 23.26\tmax_step:1001\n",
      "Episode 33\tAverage Score: 23.71\tmax_step:1001\n",
      "Episode 34\tAverage Score: 24.11\tmax_step:1001\n",
      "Episode 35\tAverage Score: 24.49\tmax_step:1001\n",
      "Episode 36\tAverage Score: 24.84\tmax_step:1001\n",
      "Episode 37\tAverage Score: 25.08\tmax_step:1001\n",
      "Episode 38\tAverage Score: 25.42\tmax_step:1001\n",
      "Episode 39\tAverage Score: 25.73\tmax_step:1001\n",
      "Episode 40\tAverage Score: 25.93\tmax_step:1001\n",
      "Episode 41\tAverage Score: 26.19\tmax_step:1001\n",
      "Episode 42\tAverage Score: 26.41\tmax_step:1001\n",
      "Episode 43\tAverage Score: 26.59\tmax_step:1001\n",
      "Episode 44\tAverage Score: 26.81\tmax_step:1001\n",
      "Episode 45\tAverage Score: 27.02\tmax_step:1001\n",
      "Episode 46\tAverage Score: 27.23\tmax_step:1001\n",
      "Episode 47\tAverage Score: 27.43\tmax_step:1001\n",
      "Episode 48\tAverage Score: 27.61\tmax_step:1001\n",
      "Episode 49\tAverage Score: 27.68\tmax_step:1001\n",
      "Episode 50\tAverage Score: 27.87\tmax_step:1001\n",
      "Episode 51\tAverage Score: 28.02\tmax_step:1001\n",
      "Episode 52\tAverage Score: 28.20\tmax_step:1001\n",
      "Episode 53\tAverage Score: 28.37\tmax_step:1001\n",
      "Episode 54\tAverage Score: 28.53\tmax_step:1001\n",
      "Episode 55\tAverage Score: 28.67\tmax_step:1001\n",
      "Episode 56\tAverage Score: 28.83\tmax_step:1001\n",
      "Episode 57\tAverage Score: 28.96\tmax_step:1001\n",
      "Episode 58\tAverage Score: 29.10\tmax_step:1001\n",
      "Episode 59\tAverage Score: 29.23\tmax_step:1001\n",
      "Episode 60\tAverage Score: 29.36\tmax_step:1001\n",
      "Episode 61\tAverage Score: 29.50\tmax_step:1001\n",
      "Episode 62\tAverage Score: 29.63\tmax_step:1001\n",
      "Episode 63\tAverage Score: 29.71\tmax_step:1001\n",
      "Episode 64\tAverage Score: 29.79\tmax_step:1001\n",
      "Episode 65\tAverage Score: 29.89\tmax_step:1001\n",
      "Episode 66\tAverage Score: 29.99\tmax_step:1001\n",
      "Episode 67\tAverage Score: 30.05\tmax_step:1001\n",
      "Score is higher than 30.\n"
     ]
    }
   ],
   "source": [
    "from collections import deque\n",
    "import torch\n",
    "\n",
    "def ddpg(n_episodes=500,print_every=1):\n",
    "    env_info = env.reset(train_mode=True)[brain_name]\n",
    "    agent.reset()\n",
    "    scores_deque = deque(maxlen=100)\n",
    "    scores = []\n",
    "    for i_episode in range(1, n_episodes+1):\n",
    "        state = env_info.vector_observations\n",
    "        score = np.zeros((num_agents,))\n",
    "        num_step = 0\n",
    "        while True:\n",
    "            action = agent.act(state)\n",
    "            env_info = env.step(action)[brain_name]\n",
    "            next_state = env_info.vector_observations\n",
    "            reward = env_info.rewards\n",
    "            done = env_info.local_done\n",
    "            \n",
    "            agent.step(state, action, reward, next_state, done)\n",
    "            state = next_state\n",
    "            score += np.array(reward)\n",
    "            num_step += 1\n",
    "            if any(done):\n",
    "                break \n",
    "        scores_deque.append(np.mean(score))\n",
    "        scores.append(np.mean(score))\n",
    "        print('\\rEpisode {}\\tAverage Score: {:.2f}'.format(i_episode, np.mean(scores_deque)), end=\"\")\n",
    "        torch.save(agent.actor_local.state_dict(), 'checkpoint_actor.pth')\n",
    "        torch.save(agent.critic_local.state_dict(), 'checkpoint_critic.pth')\n",
    "        if i_episode % print_every == 0:\n",
    "            print('\\rEpisode {}\\tAverage Score: {:.2f}\\tmax_step:{}'.format(i_episode, np.mean(scores_deque), num_step))\n",
    "            if np.mean(scores_deque) >= 30.0:\n",
    "                print(\"Score is higher than 30.\")\n",
    "                break\n",
    "    return scores\n",
    "\n",
    "scores = ddpg()"
   ]
  },
  {
   "cell_type": "code",
   "execution_count": 9,
   "metadata": {},
   "outputs": [
    {
     "data": {
      "image/png": "[encoded data removed]",
      "text/plain": [
       "<Figure size 432x288 with 1 Axes>"
      ]
     },
     "metadata": {
      "needs_background": "light"
     },
     "output_type": "display_data"
    }
   ],
   "source": [
    "import matplotlib.pyplot as plt\n",
    "%matplotlib inline\n",
    "plt.plot(scores, 'o-')\n",
    "plt.grid()"
   ]
  },
  {
   "cell_type": "code",
   "execution_count": 10,
   "metadata": {},
   "outputs": [],
   "source": [
    "env.close()"
   ]
  }
 ],
 "metadata": {
  "kernelspec": {
   "display_name": "drlnd",
   "language": "python",
   "name": "drlnd"
  },
  "language_info": {
   "codemirror_mode": {
    "name": "ipython",
    "version": 3
   },
   "file_extension": ".py",
   "mimetype": "text/x-python",
   "name": "python",
   "nbconvert_exporter": "python",
   "pygments_lexer": "ipython3",
   "version": "3.6.7"
  }
 },
 "nbformat": 4,
 "nbformat_minor": 2
}
